{
  "nbformat": 4,
  "nbformat_minor": 0,
  "metadata": {
    "colab": {
      "provenance": [],
      "authorship_tag": "ABX9TyPpSataIRkAo5PENGwx/bp7",
      "include_colab_link": true
    },
    "kernelspec": {
      "name": "python3",
      "display_name": "Python 3"
    },
    "language_info": {
      "name": "python"
    }
  },
  "cells": [
    {
      "cell_type": "markdown",
      "metadata": {
        "id": "view-in-github",
        "colab_type": "text"
      },
      "source": [
        "<a href=\"https://colab.research.google.com/github/Erangoud/Python/blob/main/Untitled11.ipynb\" target=\"_parent\"><img src=\"https://colab.research.google.com/assets/colab-badge.svg\" alt=\"Open In Colab\"/></a>"
      ]
    },
    {
      "cell_type": "markdown",
      "source": [
        "1. Write a Python program to convert a list of numeric value into a one-dimensional\n",
        "NumPy array.\n",
        "Expected Output:\n",
        "Original List: [12.23, 13.32, 100, 36.32]\n",
        "One-dimensional numpy array: [ 12.23 13.32 100. 36.32]"
      ],
      "metadata": {
        "id": "x7Vu7bgdSaJO"
      }
    },
    {
      "cell_type": "code",
      "execution_count": 1,
      "metadata": {
        "colab": {
          "base_uri": "https://localhost:8080/"
        },
        "id": "8YSuFjnuSY7L",
        "outputId": "49006eda-91f9-44c7-fdcf-6598a90704cb"
      },
      "outputs": [
        {
          "output_type": "stream",
          "name": "stdout",
          "text": [
            "one dimensional numpy array :  [ 12.23  13.32 100.    36.32]\n"
          ]
        }
      ],
      "source": [
        "import numpy as np\n",
        "list1=[12.23,13.32,100,36.32]\n",
        "arr = np.array(list1)\n",
        "print(\"one dimensional numpy array : \",arr)"
      ]
    },
    {
      "cell_type": "markdown",
      "source": [
        "2. Create a 3x3 matrix with values ranging from 2 to 10.\n",
        "Expected Output:\n",
        "[[ 2 3 4]\n",
        "[ 5 6 7]\n",
        "[ 8 9 10]]"
      ],
      "metadata": {
        "id": "rYDOxAI7TSHw"
      }
    },
    {
      "cell_type": "code",
      "source": [
        "arr = np.array([2,3,4,5,6,7,8,9,10])\n",
        "mat = arr.reshape(3,3)\n",
        "print(mat)"
      ],
      "metadata": {
        "colab": {
          "base_uri": "https://localhost:8080/"
        },
        "id": "0GX7SRUnSyrY",
        "outputId": "52483823-6ca3-436e-ed7a-ec6575b0a393"
      },
      "execution_count": 2,
      "outputs": [
        {
          "output_type": "stream",
          "name": "stdout",
          "text": [
            "[[ 2  3  4]\n",
            " [ 5  6  7]\n",
            " [ 8  9 10]]\n"
          ]
        }
      ]
    },
    {
      "cell_type": "markdown",
      "source": [
        "3. Write a Python program to create a null vector of size 10 and update sixth value to 11.\n",
        "[ 0. 0. 0. 0. 0. 0. 0. 0. 0. 0.]\n",
        "Update sixth value to 11\n",
        "[ 0. 0. 0. 0. 0. 0. 11. 0. 0. 0.]"
      ],
      "metadata": {
        "id": "cl--YYpLTn4f"
      }
    },
    {
      "cell_type": "code",
      "source": [
        "arr=np.zeros(10)\n",
        "print(arr)\n",
        "arr[6]=11\n",
        "print(arr)"
      ],
      "metadata": {
        "colab": {
          "base_uri": "https://localhost:8080/"
        },
        "id": "0KSJ_OGDTlnR",
        "outputId": "22fc44fc-0055-47de-d73f-76287fc50b75"
      },
      "execution_count": 3,
      "outputs": [
        {
          "output_type": "stream",
          "name": "stdout",
          "text": [
            "[0. 0. 0. 0. 0. 0. 0. 0. 0. 0.]\n",
            "[ 0.  0.  0.  0.  0.  0. 11.  0.  0.  0.]\n"
          ]
        }
      ]
    },
    {
      "cell_type": "markdown",
      "source": [
        "4. Write a Python program to reverse an array (first element becomes last).\n",
        "Original array:\n",
        "[12 13 14 15 16 17 18 19 20 21 22 23 24 25 26 27 28 29 30 31 32 33 34 35 36 37]\n",
        "Reverse array:\n",
        "[37 36 35 34 33 32 31 30 29 28 27 26 25 24 23 22 21 20 19 18 17 16 15 14 13 12]"
      ],
      "metadata": {
        "id": "cqwQ5TL0URN-"
      }
    },
    {
      "cell_type": "code",
      "source": [
        "arr = np.array([12 ,13, 14, 15 ,16 ,17, 18, 19, 20, 21, 22, 23, 24, 25, 26, 27, 28, 29, 30, 31, 32, 33, 34, 35, 36, 37])\n",
        "print(arr)\n",
        "reverse_arr = arr[::-1]\n",
        "print(reverse_arr)"
      ],
      "metadata": {
        "colab": {
          "base_uri": "https://localhost:8080/"
        },
        "id": "9_I-ME2oUEUR",
        "outputId": "febd4999-d8ef-4a38-bf54-9f3f7118ff6c"
      },
      "execution_count": 4,
      "outputs": [
        {
          "output_type": "stream",
          "name": "stdout",
          "text": [
            "[12 13 14 15 16 17 18 19 20 21 22 23 24 25 26 27 28 29 30 31 32 33 34 35\n",
            " 36 37]\n",
            "[37 36 35 34 33 32 31 30 29 28 27 26 25 24 23 22 21 20 19 18 17 16 15 14\n",
            " 13 12]\n"
          ]
        }
      ]
    },
    {
      "cell_type": "markdown",
      "source": [
        "5. Write a Python program to create a 2d array with 1 on the border and 0 inside.\n",
        "Expected Output:\n",
        "Original array:\n",
        "[[ 1. 1. 1. 1. 1.]\n",
        "[ 1. 1. 1. 1. 1.]\n",
        "[ 1. 1. 1. 1. 1.]\n",
        "[ 1. 1. 1. 1. 1.]\n",
        "[ 1. 1. 1. 1. 1.]]\n",
        "1 on the border and 0 inside in the array\n",
        "[[ 1. 1. 1. 1. 1.]\n",
        "[ 1. 0. 0. 0. 1.]\n",
        "[ 1. 0. 0. 0. 1.]\n",
        "[ 1. 0. 0. 0. 1.]\n",
        "[ 1. 1. 1. 1. 1.]]"
      ],
      "metadata": {
        "id": "l_jmoO5aVbhY"
      }
    },
    {
      "cell_type": "code",
      "source": [
        "arr = np.ones((5,5))\n",
        "print(arr)\n",
        "arr[1:-1,1:-1]=0\n",
        "print(arr)"
      ],
      "metadata": {
        "colab": {
          "base_uri": "https://localhost:8080/"
        },
        "id": "qMiu8YzCUuKP",
        "outputId": "367e71e4-6179-4f48-93ae-456f6c373ced"
      },
      "execution_count": 5,
      "outputs": [
        {
          "output_type": "stream",
          "name": "stdout",
          "text": [
            "[[1. 1. 1. 1. 1.]\n",
            " [1. 1. 1. 1. 1.]\n",
            " [1. 1. 1. 1. 1.]\n",
            " [1. 1. 1. 1. 1.]\n",
            " [1. 1. 1. 1. 1.]]\n",
            "[[1. 1. 1. 1. 1.]\n",
            " [1. 0. 0. 0. 1.]\n",
            " [1. 0. 0. 0. 1.]\n",
            " [1. 0. 0. 0. 1.]\n",
            " [1. 1. 1. 1. 1.]]\n"
          ]
        }
      ]
    },
    {
      "cell_type": "markdown",
      "source": [
        "6. Write a Python program to add a border (filled with 0's) around an existing array.\n",
        "Expected Output:\n",
        "Original array:\n",
        "[[ 1. 1. 1.]\n",
        "[ 1. 1. 1.]\n",
        "[ 1. 1. 1.]]\n",
        "1 on the border and 0 inside in the array\n",
        "[[ 0. 0. 0. 0. 0.]\n",
        "[ 0. 1. 1. 1. 0.]\n",
        "[ 0. 1. 1. 1. 0.]\n",
        "[ 0. 1. 1. 1. 0.]\n",
        "[ 0. 0. 0. 0. 0.]]"
      ],
      "metadata": {
        "id": "6O-F8IjzhCe_"
      }
    },
    {
      "cell_type": "code",
      "source": [
        "arr = np.ones((3,3))\n",
        "print(arr)\n",
        "border_arr = np.pad(arr,pad_width=1,mode='constant',constant_values=0)\n",
        "border_arr2 =np.pad(arr,pad_width=((2,2),(2,2)),mode=\"constant\",constant_values=0) # we can custom the width\n",
        "print(\"\\n\",border_arr2)\n",
        "print(\"\\n\",border_arr)"
      ],
      "metadata": {
        "colab": {
          "base_uri": "https://localhost:8080/"
        },
        "id": "8eJo3d9AgIMG",
        "outputId": "b301bcbe-b582-483d-eeb0-f999d3a780ff"
      },
      "execution_count": 6,
      "outputs": [
        {
          "output_type": "stream",
          "name": "stdout",
          "text": [
            "[[1. 1. 1.]\n",
            " [1. 1. 1.]\n",
            " [1. 1. 1.]]\n",
            "\n",
            " [[0. 0. 0. 0. 0. 0. 0.]\n",
            " [0. 0. 0. 0. 0. 0. 0.]\n",
            " [0. 0. 1. 1. 1. 0. 0.]\n",
            " [0. 0. 1. 1. 1. 0. 0.]\n",
            " [0. 0. 1. 1. 1. 0. 0.]\n",
            " [0. 0. 0. 0. 0. 0. 0.]\n",
            " [0. 0. 0. 0. 0. 0. 0.]]\n",
            "\n",
            " [[0. 0. 0. 0. 0.]\n",
            " [0. 1. 1. 1. 0.]\n",
            " [0. 1. 1. 1. 0.]\n",
            " [0. 1. 1. 1. 0.]\n",
            " [0. 0. 0. 0. 0.]]\n"
          ]
        }
      ]
    },
    {
      "cell_type": "markdown",
      "source": [
        "7. Write a Python program to create a 8x8 matrix and fill it with a checkerboard pattern.\n",
        "Checkerboard pattern:\n",
        "[[0 1 0 1 0 1 0 1]\n",
        "[1 0 1 0 1 0 1 0]\n",
        "[0 1 0 1 0 1 0 1]\n",
        "[1 0 1 0 1 0 1 0]\n",
        "[0 1 0 1 0 1 0 1]\n",
        "[1 0 1 0 1 0 1 0]\n",
        "[0 1 0 1 0 1 0 1]\n",
        "[1 0 1 0 1 0 1 0]]"
      ],
      "metadata": {
        "id": "FJjYYX1jNsRO"
      }
    },
    {
      "cell_type": "code",
      "source": [
        "arr = np.zeros((8,8))\n",
        "print(arr)\n",
        "arr[::2, 1::2] =1\n",
        "arr[1::2, ::2]=1\n",
        "print(\"\\n\",arr)"
      ],
      "metadata": {
        "id": "b_UeDjNdhZkh",
        "colab": {
          "base_uri": "https://localhost:8080/"
        },
        "outputId": "7a11f5fc-c6ea-48ba-84c3-e1e7c902d75e"
      },
      "execution_count": 7,
      "outputs": [
        {
          "output_type": "stream",
          "name": "stdout",
          "text": [
            "[[0. 0. 0. 0. 0. 0. 0. 0.]\n",
            " [0. 0. 0. 0. 0. 0. 0. 0.]\n",
            " [0. 0. 0. 0. 0. 0. 0. 0.]\n",
            " [0. 0. 0. 0. 0. 0. 0. 0.]\n",
            " [0. 0. 0. 0. 0. 0. 0. 0.]\n",
            " [0. 0. 0. 0. 0. 0. 0. 0.]\n",
            " [0. 0. 0. 0. 0. 0. 0. 0.]\n",
            " [0. 0. 0. 0. 0. 0. 0. 0.]]\n",
            "\n",
            " [[0. 1. 0. 1. 0. 1. 0. 1.]\n",
            " [1. 0. 1. 0. 1. 0. 1. 0.]\n",
            " [0. 1. 0. 1. 0. 1. 0. 1.]\n",
            " [1. 0. 1. 0. 1. 0. 1. 0.]\n",
            " [0. 1. 0. 1. 0. 1. 0. 1.]\n",
            " [1. 0. 1. 0. 1. 0. 1. 0.]\n",
            " [0. 1. 0. 1. 0. 1. 0. 1.]\n",
            " [1. 0. 1. 0. 1. 0. 1. 0.]]\n"
          ]
        }
      ]
    },
    {
      "cell_type": "markdown",
      "source": [
        "8. Write a Python program to convert a list and tuple into arrays.\n",
        "List to array:\n",
        "[1 2 3 4 5 6 7 8]\n",
        "Tuple to array:\n",
        "[[8 4 6]\n",
        "[1 2 3]]"
      ],
      "metadata": {
        "id": "nwAaCV0uXedr"
      }
    },
    {
      "cell_type": "code",
      "source": [
        "list1=[1,2,3,4,5,6,7,8]\n",
        "arr = np.array(list1)\n",
        "print(\"A list to an Array\\n\",arr)\n",
        "Tuple1=((8,4,6),(1,2,3))\n",
        "arr1 = np.array(Tuple1)\n",
        "print(\"A tuple to array\\n\",arr1)"
      ],
      "metadata": {
        "colab": {
          "base_uri": "https://localhost:8080/"
        },
        "id": "SLf4wkFiVFkl",
        "outputId": "cac46fdc-4477-429c-d0c8-0fcbc749bc10"
      },
      "execution_count": 8,
      "outputs": [
        {
          "output_type": "stream",
          "name": "stdout",
          "text": [
            "A list to an Array\n",
            " [1 2 3 4 5 6 7 8]\n",
            "A tuple to array\n",
            " [[8 4 6]\n",
            " [1 2 3]]\n"
          ]
        }
      ]
    },
    {
      "cell_type": "markdown",
      "source": [
        "9. Write a Python program to append values to the end of an array.\n",
        "Expected Output:\n",
        "Original array:\n",
        "[10, 20, 30]\n",
        "After append values to the end of the array:\n",
        "[10 20 30 40 50 60 70 80 90]\n"
      ],
      "metadata": {
        "id": "6AVwSclxiLx2"
      }
    },
    {
      "cell_type": "code",
      "source": [
        "arr = np.array([10,20,30])\n",
        "values = [40,50,60,70]\n",
        "arr = np.append(arr,values)\n",
        "# arr1 = np.concatenate(arr,values) use values_to_append = np.array([40, 50, 60, 70, 80, 90])\n",
        "print(arr)"
      ],
      "metadata": {
        "colab": {
          "base_uri": "https://localhost:8080/"
        },
        "id": "YfVIbM0VYR4n",
        "outputId": "66a27e55-9633-4226-9d96-6e29c0621141"
      },
      "execution_count": 9,
      "outputs": [
        {
          "output_type": "stream",
          "name": "stdout",
          "text": [
            "[10 20 30 40 50 60 70]\n"
          ]
        }
      ]
    },
    {
      "cell_type": "markdown",
      "source": [
        "10. Write a Python program to find the real and imaginary parts of an array of complex\n",
        "numbers.\n",
        "Expected Output:\n",
        "Original array [ 1.00000000+0.j 0.70710678+0.70710678j]\n",
        "Real part of the array:\n",
        "[ 1. 0.70710678]\n",
        "Imaginary part of the array:\n",
        "[ 0. 0.70710678]"
      ],
      "metadata": {
        "id": "syVPaBGcknwK"
      }
    },
    {
      "cell_type": "code",
      "source": [
        "arr = np.array([1.00000000+0.j ,0.70710678+0.70710678j])\n",
        "real_arr = np.real(arr)\n",
        "img_arr = np.imag(arr)\n",
        "print(arr)\n",
        "print(\"The real part of array :\",real_arr)\n",
        "print(\"The img part of array :\",img_arr)"
      ],
      "metadata": {
        "colab": {
          "base_uri": "https://localhost:8080/"
        },
        "id": "yEiR6Sr0jCBn",
        "outputId": "78feca55-1165-4c0c-e962-699dcfc48bac"
      },
      "execution_count": 10,
      "outputs": [
        {
          "output_type": "stream",
          "name": "stdout",
          "text": [
            "[1.        +0.j         0.70710678+0.70710678j]\n",
            "The real part of array : [1.         0.70710678]\n",
            "The img part of array : [0.         0.70710678]\n"
          ]
        }
      ]
    },
    {
      "cell_type": "markdown",
      "source": [
        "11. Write a Python program to find the number of elements of an array, length of one\n",
        "array element in bytes and total bytes consumed by the elements.\n",
        "Expected Output:\n",
        "Size of the array: 3\n",
        "Length of one array element in bytes: 8\n",
        "Total bytes consumed by the elements of the array: 24"
      ],
      "metadata": {
        "id": "T6MuCCkpmSu3"
      }
    },
    {
      "cell_type": "code",
      "source": [
        "arr = np.array([10,20,30])\n",
        "print(\"this is an array\",arr)\n",
        "print(\"Size of an array : \",arr.size)\n",
        "print(\"Length of one array element in bytes :\",arr.itemsize)\n",
        "print(\"Total bytes consumed by the elements :\",arr.nbytes)\n"
      ],
      "metadata": {
        "colab": {
          "base_uri": "https://localhost:8080/"
        },
        "id": "K8-EXjM0lQN8",
        "outputId": "eaf7917e-0d7d-4a07-d078-54bfed87b15b"
      },
      "execution_count": 11,
      "outputs": [
        {
          "output_type": "stream",
          "name": "stdout",
          "text": [
            "this is an array [10 20 30]\n",
            "Size of an array :  3\n",
            "Length of one array element in bytes : 8\n",
            "Total bytes consumed by the elements : 24\n"
          ]
        }
      ]
    },
    {
      "cell_type": "markdown",
      "source": [
        "12. Write a Python program to find common values between two arrays.\n",
        "Expected Output:\n",
        "Array1: [ 0 10 20 40 60]\n",
        "Array2: [10, 30, 40]\n",
        "Common values between two arrays:\n",
        "[10 40]"
      ],
      "metadata": {
        "id": "6KWRIHiVnhCL"
      }
    },
    {
      "cell_type": "code",
      "source": [
        "arr1 = np.array([0,10,20,40,60])\n",
        "arr2 = np.array([10,30,40])\n",
        "\n",
        "# intersect1d used to find the common elements between two arrays\n",
        "common_value = np.intersect1d(arr1,arr2)\n",
        "print(common_value)"
      ],
      "metadata": {
        "colab": {
          "base_uri": "https://localhost:8080/"
        },
        "id": "8p8q-UMtm4un",
        "outputId": "30ff86db-e983-4b1f-93e5-2ecad8418ba0"
      },
      "execution_count": 12,
      "outputs": [
        {
          "output_type": "stream",
          "name": "stdout",
          "text": [
            "[10 40]\n"
          ]
        }
      ]
    },
    {
      "cell_type": "markdown",
      "source": [
        "13. Write a Python program to find the set difference of two arrays. The set difference\n",
        "will return the sorted, unique values in array1 that are not in array2.\n",
        "Expected Output:\n",
        "Array1: [ 0 10 20 40 60 80]\n",
        "Array2: [10, 30, 40, 50, 70, 90]\n",
        "Set difference between two arrays:\n",
        "[ 0 20 60 80]"
      ],
      "metadata": {
        "id": "-DCXz0ZZoQfk"
      }
    },
    {
      "cell_type": "code",
      "source": [
        "arr1 = np.array ([0,10,20,40,60,80])\n",
        "arr2 = np.array([10,30,40,50,70,90])\n",
        "unique_arr = np.setdiff1d(arr1,arr2)\n",
        "print(\"the unique elements which are not in 2nd array : \",unique_arr)"
      ],
      "metadata": {
        "colab": {
          "base_uri": "https://localhost:8080/"
        },
        "id": "1v2aeIVToaJf",
        "outputId": "7819a49e-0904-4f83-d421-e1062b74b1c8"
      },
      "execution_count": 13,
      "outputs": [
        {
          "output_type": "stream",
          "name": "stdout",
          "text": [
            "the unique elements which are not in 2nd array :  [ 0 20 60 80]\n"
          ]
        }
      ]
    },
    {
      "cell_type": "markdown",
      "source": [
        "14. Write a Python program to find the set exclusive-or of two arrays. Set exclusive-or\n",
        "will return the sorted, unique values that are in only one (not both) of the input arrays.\n",
        "Array1: [ 0 10 20 40 60 80]\n",
        "Array2: [10, 30, 40, 50, 70]\n",
        "Unique values that are in only one (not both) of the input arrays:\n",
        "[ 0 20 30 50 60 70 80]"
      ],
      "metadata": {
        "id": "VHnOl8N_pSpK"
      }
    },
    {
      "cell_type": "code",
      "source": [
        "arr1 = np.array([0,10,20,40,60,80])\n",
        "arr2 = np.array([10,30,40,50,70])\n",
        "set_exclusive = np.setxor1d(arr1,arr2)\n",
        "print(set_exclusive)"
      ],
      "metadata": {
        "colab": {
          "base_uri": "https://localhost:8080/"
        },
        "id": "JDqYGoOYpOZM",
        "outputId": "7f311cdb-aca1-4fc0-eb2e-20ef45e86f5a"
      },
      "execution_count": 14,
      "outputs": [
        {
          "output_type": "stream",
          "name": "stdout",
          "text": [
            "[ 0 20 30 50 60 70 80]\n"
          ]
        }
      ]
    },
    {
      "cell_type": "markdown",
      "source": [
        "15. Write a Python program compare two arrays using numpy.\n",
        "Array a: [1 2]\n",
        "Array b: [4 5]\n",
        "a > b\n",
        "[False False]\n",
        "a >= b\n",
        "[False False]\n",
        "a < b\n",
        "[ True True]\n",
        "a <= b\n",
        "[ True True]"
      ],
      "metadata": {
        "id": "3grWHxTdqW_t"
      }
    },
    {
      "cell_type": "code",
      "source": [
        "a = np.array([1,2])\n",
        "b = np.array([4,5])\n",
        "print(\"greater than a>b : \",a>b)\n",
        "print(\"lesser than a<b : \",a<b)\n",
        "print(\"greater than or equals a>=b:\",a>=b)\n",
        "print(\"lesser than or equal a<=b :\",a<=b)"
      ],
      "metadata": {
        "colab": {
          "base_uri": "https://localhost:8080/"
        },
        "id": "wBZzft8ip3aF",
        "outputId": "6a60dfb7-389c-4222-c055-ea7af80242ca"
      },
      "execution_count": 15,
      "outputs": [
        {
          "output_type": "stream",
          "name": "stdout",
          "text": [
            "greater than a>b :  [False False]\n",
            "lesser than a<b :  [ True  True]\n",
            "greater than or equals a>=b: [False False]\n",
            "lesser than or equal a<=b : [ True  True]\n"
          ]
        }
      ]
    },
    {
      "cell_type": "markdown",
      "source": [
        "15. Write a Python program to save a NumPy array to a text file."
      ],
      "metadata": {
        "id": "ueyTL9b4ruZa"
      }
    },
    {
      "cell_type": "code",
      "source": [
        "# import json\n",
        "# arr = np.array([1,2,3,4,5])\n",
        "# arr_list = arr.tolist()    # we have convert the array to list to dump in json file\n",
        "# with open(\"array.txt\",\"w\") as file :\n",
        "#   json.dump(arr_list,file)\n",
        "\n",
        "\n",
        "arr = np.array([1,2,3,4,5])\n",
        "np.savetxt(\"array.txt\",arr)\n",
        "print(\"array is saved in a file\")\n"
      ],
      "metadata": {
        "colab": {
          "base_uri": "https://localhost:8080/"
        },
        "id": "MkVnYphtq2m9",
        "outputId": "67c005fe-7d7c-4f12-e2a8-0e5a08c4c905"
      },
      "execution_count": 16,
      "outputs": [
        {
          "output_type": "stream",
          "name": "stdout",
          "text": [
            "array is saved in a file\n"
          ]
        }
      ]
    },
    {
      "cell_type": "markdown",
      "source": [
        "16. Write a Python program to create a contiguous flattened array.\n",
        "Original array:\n",
        "[[10 20 30]\n",
        "[20 40 50]]\n",
        "New flattened array:\n",
        "[10 20 30 20 40 50]"
      ],
      "metadata": {
        "id": "S8ZXzzE7t-52"
      }
    },
    {
      "cell_type": "code",
      "source": [
        "arr1 = np.array([[10,20,30],[20,40,50]])\n",
        "\n",
        "flattend_array=arr1.flatten()\n",
        "print(flattend_array)\n",
        "\n",
        "#Makinig the multi dimensional array into 1D array"
      ],
      "metadata": {
        "colab": {
          "base_uri": "https://localhost:8080/"
        },
        "id": "z6T4MWPpsk_5",
        "outputId": "ece761ad-43d0-4d38-a4b2-a98945f4bab8"
      },
      "execution_count": 17,
      "outputs": [
        {
          "output_type": "stream",
          "name": "stdout",
          "text": [
            "[10 20 30 20 40 50]\n"
          ]
        }
      ]
    },
    {
      "cell_type": "markdown",
      "source": [],
      "metadata": {
        "id": "D4Zl2gK0vkif"
      }
    },
    {
      "cell_type": "markdown",
      "source": [
        "17. Write a Python program to change the data type of an array.\n",
        "Expected Output:\n",
        "[[ 2 4 6]\n",
        "[ 6 8 10]]\n",
        "Data type of the array x is: int32\n",
        "New Type: float64\n",
        "[[ 2. 4. 6.]\n",
        "[ 6. 8. 10.]]"
      ],
      "metadata": {
        "id": "Zt3JXG6dvjjy"
      }
    },
    {
      "cell_type": "code",
      "source": [
        "arr1 = np.array([[2,4,6],[6,8,10]])\n",
        "print(arr.dtype)\n",
        "arr2 = arr1.astype(np.float32)\n",
        "print(arr2.dtype)\n",
        "print(arr2)"
      ],
      "metadata": {
        "colab": {
          "base_uri": "https://localhost:8080/"
        },
        "id": "6_-JG2HbuJz5",
        "outputId": "8f84e39d-e726-474f-a8a0-df8f26caee8e"
      },
      "execution_count": 18,
      "outputs": [
        {
          "output_type": "stream",
          "name": "stdout",
          "text": [
            "int64\n",
            "float32\n",
            "[[ 2.  4.  6.]\n",
            " [ 6.  8. 10.]]\n"
          ]
        }
      ]
    },
    {
      "cell_type": "markdown",
      "source": [
        "18. Write a Python program to create a 3-D array with ones on a diagonal and zeros\n",
        "elsewhere.\n",
        "Expected Output:\n",
        "[[ 1. 0. 0.]\n",
        "[ 0. 1. 0.]\n",
        "[ 0. 0. 1.]]"
      ],
      "metadata": {
        "id": "QOTf8KbQy2Cx"
      }
    },
    {
      "cell_type": "code",
      "source": [
        "arr = np.zeros((3,3))\n",
        "print(arr)\n",
        "# arr[0:1,0:1]=1\n",
        "np.fill_diagonal(arr,1)\n",
        "# print(np.eye(3))  arr = np.eye(3)\n",
        "print(\"\\n\",arr)"
      ],
      "metadata": {
        "colab": {
          "base_uri": "https://localhost:8080/"
        },
        "id": "PKMcD71IwkTW",
        "outputId": "46b4ccc1-0105-4a3f-ff63-f070f98cb15b"
      },
      "execution_count": 19,
      "outputs": [
        {
          "output_type": "stream",
          "name": "stdout",
          "text": [
            "[[0. 0. 0.]\n",
            " [0. 0. 0.]\n",
            " [0. 0. 0.]]\n",
            "\n",
            " [[1. 0. 0.]\n",
            " [0. 1. 0.]\n",
            " [0. 0. 1.]]\n"
          ]
        }
      ]
    },
    {
      "cell_type": "markdown",
      "source": [
        "19. Write a Python program to create an array which looks like below array.\n",
        "Expected Output:\n",
        "[[ 0. 0. 0.]\n",
        "[ 1. 0. 0.]\n",
        "[ 1. 1. 0.]\n",
        "[ 1. 1. 1.]]"
      ],
      "metadata": {
        "id": "FqYb_wIQ0ytp"
      }
    },
    {
      "cell_type": "code",
      "source": [
        "# work on this problem\n",
        "arr = np.zeros((4,3))\n",
        "print(arr)\n",
        "\n",
        "arr[1:,0] = arr[2:,1] = arr [-1,-1] =1\n",
        "print(arr)\n",
        "\n",
        "print(np.tri(4,3,-1))"
      ],
      "metadata": {
        "id": "sTwfRh4_zLrI",
        "colab": {
          "base_uri": "https://localhost:8080/"
        },
        "outputId": "32b92168-11e2-4a5c-b6b4-52dd8beb8cd6"
      },
      "execution_count": 30,
      "outputs": [
        {
          "output_type": "stream",
          "name": "stdout",
          "text": [
            "[[0. 0. 0.]\n",
            " [0. 0. 0.]\n",
            " [0. 0. 0.]\n",
            " [0. 0. 0.]]\n",
            "[[0. 0. 0.]\n",
            " [1. 0. 0.]\n",
            " [1. 1. 0.]\n",
            " [1. 1. 1.]]\n",
            "[[0. 0. 0.]\n",
            " [1. 0. 0.]\n",
            " [1. 1. 0.]\n",
            " [1. 1. 1.]]\n"
          ]
        }
      ]
    },
    {
      "cell_type": "markdown",
      "source": [
        "20. Write a Python program to concatenate two 2-dimensional arrays.\n",
        "Expected Output:\n",
        "Sample arrays: ([[0, 1, 3], [5, 7, 9]], [[0, 2, 4], [6, 8, 10]]\n",
        "Expected Output:\n",
        "[[ 0 1 3 0 2 4]\n",
        "[ 5 7 9 6 8 10]]"
      ],
      "metadata": {
        "id": "pNEbLXzd2pz-"
      }
    },
    {
      "cell_type": "code",
      "source": [
        "arr1 = np.array([[0,1,3],[5,7,9]])\n",
        "arr2 = np.array([[0,2,4],[6,8,10]])\n",
        "\n",
        "arr3 = np.concatenate((arr1,arr2),axis=1)\n",
        "print(arr3)\n",
        "# a = np.array([1,2,3])\n",
        "# b=np.array([4,5,6])\n",
        "# c= np.concatenate((a,b))\n",
        "# print(c)"
      ],
      "metadata": {
        "colab": {
          "base_uri": "https://localhost:8080/"
        },
        "id": "GPG2Ns951y8J",
        "outputId": "eec2637d-e953-4bef-ddf9-9257249ec64e"
      },
      "execution_count": 21,
      "outputs": [
        {
          "output_type": "stream",
          "name": "stdout",
          "text": [
            "[[ 0  1  3  0  2  4]\n",
            " [ 5  7  9  6  8 10]]\n"
          ]
        }
      ]
    },
    {
      "cell_type": "markdown",
      "source": [
        "21. Write a Python program to make an array immutable (read-only).\n",
        "Expected Output:\n",
        "Test the array is read-only or not:\n",
        "Try to change the value of the first element:\n",
        "Traceback (most recent call last):\n",
        "File \"19236bd0-0bd9-11e7-a232-c706d0968eb6.py\", line 6, in\n",
        "x[0] = 1\n",
        "ValueError: assignment destination is read-only"
      ],
      "metadata": {
        "id": "YBFfnl5MUekM"
      }
    },
    {
      "cell_type": "code",
      "source": [
        "arr = np.array([1,2,3,4,5])\n",
        "arr.flags.writeable = False\n",
        "try :\n",
        "  arr[1]=10\n",
        "except ValueError as e :\n",
        "  print(e)\n",
        "print(arr)"
      ],
      "metadata": {
        "colab": {
          "base_uri": "https://localhost:8080/"
        },
        "id": "1OV4g498M4wN",
        "outputId": "2ed82fdd-b2ab-4698-d305-52d3b35a0c1c"
      },
      "execution_count": 32,
      "outputs": [
        {
          "output_type": "stream",
          "name": "stdout",
          "text": [
            "assignment destination is read-only\n",
            "[1 2 3 4 5]\n"
          ]
        }
      ]
    },
    {
      "cell_type": "markdown",
      "source": [
        "22. Write a Python program to create an array of (3, 4) shape, multiply every element\n",
        "value by 3 and display the new array.\n",
        "Expected Output:\n",
        "Original array elements:\n",
        "[[ 0 1 2 3]\n",
        "[ 4 5 6 7]\n",
        "[ 8 9 10 11]]\n",
        "New array elements:\n",
        "[[ 0 3 6 9]\n",
        "[12 15 18 21]\n",
        "[24 27 30 33]]"
      ],
      "metadata": {
        "id": "5k1LTyO22pUh"
      }
    },
    {
      "cell_type": "code",
      "source": [
        "arr = np.array([[0,1,2,3],\n",
        "                [4,5,6,7],\n",
        "                [ 8,9,10,11]])\n",
        "print(arr*3)"
      ],
      "metadata": {
        "colab": {
          "base_uri": "https://localhost:8080/"
        },
        "id": "UmxSo_j6WeFt",
        "outputId": "2012912e-dd63-4136-abde-6e6a1d657299"
      },
      "execution_count": 34,
      "outputs": [
        {
          "output_type": "stream",
          "name": "stdout",
          "text": [
            "[[ 0  3  6  9]\n",
            " [12 15 18 21]\n",
            " [24 27 30 33]]\n"
          ]
        }
      ]
    },
    {
      "cell_type": "markdown",
      "source": [
        "23. Write a Python program to convert a NumPy array into Python list structure.\n",
        "Expected Output:\n",
        "Original array elements:\n",
        "[[0 1]\n",
        "[2 3]\n",
        "[4 5]]\n",
        "Array to list:\n",
        "[[0, 1], [2, 3], [4, 5]]"
      ],
      "metadata": {
        "id": "zMgkUkarW5S2"
      }
    },
    {
      "cell_type": "code",
      "source": [
        "arr = np.array([[[0,1],\n",
        "                [2,3],\n",
        "                [4,5]]])\n",
        "\n",
        "list1 = arr.tolist()\n",
        "print(list1)"
      ],
      "metadata": {
        "colab": {
          "base_uri": "https://localhost:8080/"
        },
        "id": "QLIuJFBJWubZ",
        "outputId": "875904d0-0edf-44bf-95c4-e9ccfcb3f5e0"
      },
      "execution_count": 36,
      "outputs": [
        {
          "output_type": "stream",
          "name": "stdout",
          "text": [
            "[[[0, 1], [2, 3], [4, 5]]]\n"
          ]
        }
      ]
    },
    {
      "cell_type": "markdown",
      "source": [
        "24. Write a Python program to convert a NumPy array into Python list structure.\n",
        "Expected Output:\n",
        "Original array elements:\n",
        "[ 0.26153123 0.52760141 0.5718299 0.5927067 0.7831874 0.69746349\n",
        "0.35399976 0.99469633 0.0694458 0.54711478]\n",
        "Print array values with precision 3:\n",
        "[ 0.262 0.528 0.572 0.593 0.783 0.697 0.354 0.995 0.069 0.547]"
      ],
      "metadata": {
        "id": "7nLtyQDLXwx9"
      }
    },
    {
      "cell_type": "code",
      "source": [
        "arr = np.array([[0.26153123,0.52760141,0.5718299,0.5927067,0.7831874,0.69746349,0.35399976,0.99469633,0.0694458,0.54711478]])\n",
        "list1 = arr.tolist()\n",
        "print(list1)"
      ],
      "metadata": {
        "colab": {
          "base_uri": "https://localhost:8080/"
        },
        "id": "dG_XRXWNXJKK",
        "outputId": "2e7d399f-0b90-40b2-cf98-bd8b88426add"
      },
      "execution_count": 39,
      "outputs": [
        {
          "output_type": "stream",
          "name": "stdout",
          "text": [
            "[[0.26153123, 0.52760141, 0.5718299, 0.5927067, 0.7831874, 0.69746349, 0.35399976, 0.99469633, 0.0694458, 0.54711478]]\n"
          ]
        }
      ]
    },
    {
      "cell_type": "markdown",
      "source": [
        "25. Write a Python program to suppresses the use of scientific notation for small\n",
        "numbers in numpy array.\n",
        "Expected Output:\n",
        "Original array elements:\n",
        "[ 1.60000000e-10 1.60000000e+00 1.20000000e+03 2.35000000e-01]\n",
        "Print array values with precision 3:\n",
        "[ 0. 1.6 1200. 0.235]"
      ],
      "metadata": {
        "id": "vV__o_bDYTik"
      }
    },
    {
      "cell_type": "code",
      "source": [
        "arr = np.array([ 1.60000000e-10 ,1.60000000e+00 ,1.20000000e+03 ,2.35000000e-01])\n",
        "np.set_printoptions(suppress=\"True\",precision=3)\n",
        "print(arr)"
      ],
      "metadata": {
        "colab": {
          "base_uri": "https://localhost:8080/"
        },
        "id": "yrmRWfzfX_nF",
        "outputId": "0542b830-0d27-4f39-f935-5012de9f38be"
      },
      "execution_count": 45,
      "outputs": [
        {
          "output_type": "stream",
          "name": "stdout",
          "text": [
            "[   0.       1.6   1200.       0.235]\n"
          ]
        }
      ]
    },
    {
      "cell_type": "markdown",
      "source": [
        "26. Write a Python program to how to add an extra column to an numpy array.\n",
        "Expected Output:\n",
        "[[ 10 20 30 100]\n",
        "[ 40 50 60 200]]"
      ],
      "metadata": {
        "id": "5gs9GfBVeX33"
      }
    },
    {
      "cell_type": "code",
      "source": [
        "arr = np.array([[10,20,30],[40,50,60]])\n",
        "values = np.array([[100],[200]])\n",
        "arr = np.append(arr,values,axis=1)\n",
        "print(arr)"
      ],
      "metadata": {
        "colab": {
          "base_uri": "https://localhost:8080/"
        },
        "id": "Gc75CcY2YoNN",
        "outputId": "6aa62aa4-a185-4f83-f550-241c98f5b7ec"
      },
      "execution_count": 51,
      "outputs": [
        {
          "output_type": "stream",
          "name": "stdout",
          "text": [
            "[[ 10  20  30 100]\n",
            " [ 40  50  60 200]]\n"
          ]
        }
      ]
    },
    {
      "cell_type": "markdown",
      "source": [
        "27. Write a Python program to remove specific elements in a numpy array.\n",
        "Expected Output:\n",
        "Original array:\n",
        "[ 10 20 30 40 50 60 70 80 90 100]\n",
        "Delete first, fourth and fifth elements:\n",
        "[ 20 30 60 70 80 90 100]"
      ],
      "metadata": {
        "id": "zZBfbLLqfVHf"
      }
    },
    {
      "cell_type": "code",
      "source": [
        "arr = np.array([10,20,30,40,50,60,70,80,90,100])\n",
        "delete = [0,3,4]\n",
        "arr = np.delete(arr,delete)\n",
        "print(arr)"
      ],
      "metadata": {
        "colab": {
          "base_uri": "https://localhost:8080/"
        },
        "id": "jDt-OyUaez7V",
        "outputId": "26a4e3c8-59cc-423d-b4d0-88e04aefa313"
      },
      "execution_count": 54,
      "outputs": [
        {
          "output_type": "stream",
          "name": "stdout",
          "text": [
            "[ 20  30  60  70  80  90 100]\n"
          ]
        }
      ]
    },
    {
      "cell_type": "code",
      "source": [],
      "metadata": {
        "id": "fNaYx3F4gIJO"
      },
      "execution_count": 54,
      "outputs": []
    }
  ]
}